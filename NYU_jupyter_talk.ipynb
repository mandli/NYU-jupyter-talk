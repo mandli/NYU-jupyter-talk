{
 "cells": [
  {
   "cell_type": "markdown",
   "metadata": {
    "slideshow": {
     "slide_type": "skip"
    }
   },
   "source": [
    "<table>\n",
    " <tr align=left><td><img align=left src=\"./images/CC-BY.png\">\n",
    " <td>Text provided under a Creative Commons Attribution license, CC-BY. All code is made available under the FSF-approved MIT license. (c) Kyle T. Mandli</td>\n",
    "</table>"
   ]
  },
  {
   "cell_type": "code",
   "execution_count": null,
   "metadata": {
    "slideshow": {
     "slide_type": "skip"
    }
   },
   "outputs": [],
   "source": [
    "from __future__ import print_function\n",
    "\n",
    "%matplotlib inline\n",
    "import numpy\n",
    "import matplotlib.pyplot as plt"
   ]
  },
  {
   "cell_type": "markdown",
   "metadata": {
    "slideshow": {
     "slide_type": "slide"
    }
   },
   "source": [
    "# Teaching Coding in Non-coding Classes with Jupyter Notebooks\n",
    "\n",
    "Kyle T. Mandli\n",
    "\n",
    "Columbia University\n",
    "\n",
    "Applied Physics and Applied Mathematics"
   ]
  },
  {
   "cell_type": "markdown",
   "metadata": {
    "slideshow": {
     "slide_type": "subslide"
    }
   },
   "source": [
    "## Teaching with Jupyter notebooks\n",
    "\n",
    "Is this a useful tool for my teaching that also enables my students?"
   ]
  },
  {
   "cell_type": "markdown",
   "metadata": {
    "slideshow": {
     "slide_type": "subslide"
    }
   },
   "source": [
    "### Mixed Content Including\n",
    "\n",
    " - Markdown\n",
    " - LaTeX for mathematics\n",
    "   $$\n",
    "       f(x) = \\sin (\\pi x)\n",
    "   $$\n",
    " - Coding\n",
    "```python\n",
    "print(\"Hello, world!\")\n",
    "```"
   ]
  },
  {
   "cell_type": "markdown",
   "metadata": {
    "slideshow": {
     "slide_type": "subslide"
    }
   },
   "source": [
    "### Multiple Languages Supported\n",
    "\n",
    "Use whatever [language](https://github.com/jupyter/jupyter/wiki/Jupyter-kernels) you are already comfortable with."
   ]
  },
  {
   "cell_type": "markdown",
   "metadata": {
    "slideshow": {
     "slide_type": "subslide"
    }
   },
   "source": [
    "### Industry Use\n",
    "\n",
    " - Primary platform for machine learning\n",
    " - [Journalism](https://github.com/BuzzFeedNews/everything)"
   ]
  },
  {
   "cell_type": "markdown",
   "metadata": {
    "slideshow": {
     "slide_type": "subslide"
    }
   },
   "source": [
    "### Grading\n",
    "\n",
    "[Automatic grading mechanisms](https://nbgrader.readthedocs.io/en/stable/).  \n",
    "\n",
    "Provides students scaffolding for homework problems that can be tuned.\n",
    "\n",
    "Provides students immediate feedback."
   ]
  },
  {
   "cell_type": "markdown",
   "metadata": {
    "slideshow": {
     "slide_type": "subslide"
    }
   },
   "source": [
    "### Reproducibility of Content\n",
    "\n",
    "Students can see how a graph is made and modify it.\n",
    "\n",
    "Researchers are using Jupyter as a \"lab notebook\" type record of research."
   ]
  },
  {
   "cell_type": "markdown",
   "metadata": {
    "slideshow": {
     "slide_type": "slide"
    }
   },
   "source": [
    "## Open Source Educational Resources\n",
    "   - Jupyter notebooks are great for open access mixed content\n",
    "     - [Lecture notes](https://github.com/mandli/intro-numerical-methods)\n",
    "     - [Books](https://github.com/clawpack/riemann_book)"
   ]
  },
  {
   "cell_type": "markdown",
   "metadata": {
    "slideshow": {
     "slide_type": "slide"
    }
   },
   "source": [
    "## [Teaching and Learning with Jupyter](https://jupyter4edu.github.io/jupyter-edu-book/) Book"
   ]
  },
  {
   "cell_type": "markdown",
   "metadata": {
    "slideshow": {
     "slide_type": "slide"
    }
   },
   "source": [
    "## Examples\n",
    "\n",
    "A few examples from lecture notes, books, and journalism."
   ]
  },
  {
   "cell_type": "markdown",
   "metadata": {
    "slideshow": {
     "slide_type": "subslide"
    }
   },
   "source": [
    "### Example: Low Rank-Approximations with PCA/SVD\n",
    "\n",
    " - $A$ is the sum of the $r$ rank-one matrices:\n",
    "$$\n",
    "    A = U \\Sigma V^T = \\sum_{j=1}^{r} \\sigma_{j}u_{j}v_{j}^{T}\n",
    "$$\n",
    " - For any $k$ with $0 \\leq k \\leq r$, define\n",
    "$$\n",
    "    A = \\sum_{j=1}^{k} \\sigma_{j}u_{j}v_{j}^{T}\n",
    "$$\n",
    "Let $k = min(m,n)$, then\n",
    "\n",
    "$$\n",
    "    ||A - A_{v}||_{2} = \\text{inf}_{B \\in \\mathbb{C}^{m \\times n}} \\text{rank}(B)\\leq k|| A-B||_{2} = \\sigma_{k+1}\n",
    "$$\n",
    "\n",
    "- For any $k$ with $0 \\leq k \\leq r$, the matrix $A_{k}$ also satisfies\n",
    "$$\n",
    "    ||A - A_{v}||_{F} = \\text{inf}_{B \\in \\mathbb{C}^{m \\times n}} \\text{rank}(B)\\leq v ||A-B||_{F} = \\sqrt{\\sigma_{v+1}^{2} + ... + \\sigma_{r}^{2}}\n",
    "$$"
   ]
  },
  {
   "cell_type": "code",
   "execution_count": null,
   "metadata": {
    "slideshow": {
     "slide_type": "skip"
    }
   },
   "outputs": [],
   "source": [
    "data = numpy.zeros((15,40))\n",
    "\n",
    "#H\n",
    "data[2:10,2:4] = 1\n",
    "data[5:7,4:6] = 1\n",
    "data[2:10,6:8] = 1\n",
    "\n",
    "#E\n",
    "data[3:11,10:12] = 1\n",
    "data[3:5,12:16] = 1\n",
    "data[6:8, 12:16] = 1\n",
    "data[9:11, 12:16] = 1\n",
    "\n",
    "#L\n",
    "data[4:12,18:20] = 1\n",
    "data[10:12,20:24] = 1\n",
    "\n",
    "#L\n",
    "data[5:13,26:28] = 1\n",
    "data[11:13,28:32] = 1\n",
    "\n",
    "#0\n",
    "data[6:14,34:36] = 1\n",
    "data[6:8, 36:38] = 1\n",
    "data[12:14, 36:38] = 1\n",
    "data[6:14,38:40] = 1\n",
    "\n",
    "plt.imshow(data)\n",
    "plt.show()"
   ]
  },
  {
   "cell_type": "code",
   "execution_count": null,
   "metadata": {
    "slideshow": {
     "slide_type": "skip"
    }
   },
   "outputs": [],
   "source": [
    "u, diag, vt = numpy.linalg.svd(data, full_matrices=True)\n",
    "fig = plt.figure()\n",
    "fig.set_figwidth(fig.get_figwidth() * 3)\n",
    "fig.set_figheight(fig.get_figheight() * 4)\n",
    "for i in range(1, 16):\n",
    "    diag_matrix = numpy.concatenate((numpy.zeros((len(diag[:i]) -1),), diag[i-1: i], numpy.zeros((40-i),)))\n",
    "    reconstruct = numpy.dot(numpy.dot(u, numpy.diag(diag_matrix)[:15,]), vt)\n",
    "    \n",
    "    axes = fig.add_subplot(5, 3, i)\n",
    "    mappable = axes.imshow(reconstruct, vmin=0.0, vmax=1.0)\n",
    "    axes.set_title('Component = %s' % i)\n",
    "    \n",
    "plt.show()"
   ]
  },
  {
   "cell_type": "code",
   "execution_count": null,
   "metadata": {
    "slideshow": {
     "slide_type": "skip"
    }
   },
   "outputs": [],
   "source": [
    "u, diag, vt = numpy.linalg.svd(data, full_matrices=True)\n",
    "fig = plt.figure()\n",
    "fig.set_figwidth(fig.get_figwidth() * 3)\n",
    "fig.set_figheight(fig.get_figheight() * 4)\n",
    "for i in range(1, 16):\n",
    "    diag_matrix = numpy.concatenate((diag[:i], numpy.zeros((40-i),)))\n",
    "    reconstruct = numpy.dot(numpy.dot(u, numpy.diag(diag_matrix)[:15,]), vt)\n",
    "\n",
    "    axes = fig.add_subplot(5, 3, i)\n",
    "    mappable = axes.imshow(reconstruct, vmin=0.0, vmax=1.0)\n",
    "    axes.set_title('Component = %s' % i)\n",
    "    \n",
    "plt.show()"
   ]
  },
  {
   "cell_type": "markdown",
   "metadata": {
    "slideshow": {
     "slide_type": "subslide"
    }
   },
   "source": [
    "### Examples:  Basins of Attraction for Newton's Method\n",
    "\n",
    "Given $f(x)$ and $f'(x)$ use a linear approximation to $f(x)$ \"locally\" and use the x-intercept of the resulting line to predict where $x^*$ might be.\n",
    "$$\n",
    "    x_{k+1} = x_k + \\frac{f(x_k)}{f'(x_k)}.\n",
    "$$"
   ]
  },
  {
   "cell_type": "code",
   "execution_count": null,
   "metadata": {
    "slideshow": {
     "slide_type": "skip"
    }
   },
   "outputs": [],
   "source": [
    "f = lambda x: x**3 - 1\n",
    "f_prime = lambda x: 3 * x**2\n",
    "\n",
    "N = 1001\n",
    "x = numpy.linspace(-2, 2, N)\n",
    "X, Y = numpy.meshgrid(x, x)\n",
    "R = X + 1j * Y\n",
    "\n",
    "for i in range(30):\n",
    "    R = R - f(R) / f_prime(R)\n",
    "    \n",
    "fig = plt.figure()\n",
    "fig.set_figwidth(fig.get_figwidth() * 2)\n",
    "fig.set_figheight(fig.get_figheight() * 2)\n",
    "axes = fig.add_subplot(1, 1, 1, aspect='equal')\n",
    "axes.contour(X, Y, R)\n",
    "axes.set_xlabel(\"Real\")\n",
    "axes.set_ylabel(\"Imaginary\")\n",
    "axes.set_title(\"Basin of Attraction for $f(x) = x^3 - 1$\")\n",
    "plt.show()"
   ]
  },
  {
   "cell_type": "code",
   "execution_count": null,
   "metadata": {
    "slideshow": {
     "slide_type": "skip"
    }
   },
   "outputs": [],
   "source": [
    "def f(theta, e=0.083, M=1):\n",
    "    return theta - e * numpy.sin(theta) - M\n",
    "def f_prime(theta, e=0.083):\n",
    "    return 1 - e * numpy.cos(theta)\n",
    "\n",
    "N = 1001\n",
    "x = numpy.linspace(-30.5, -29.5, N)\n",
    "y = numpy.linspace(-17.5, -16.5, N)\n",
    "X, Y = numpy.meshgrid(x, y)\n",
    "R = X + 1j * Y\n",
    "\n",
    "for i in range(30):\n",
    "    R = R - f(R) / f_prime(R)\n",
    "    \n",
    "fig = plt.figure()\n",
    "fig.set_figwidth(fig.get_figwidth() * 2)\n",
    "fig.set_figheight(fig.get_figheight() * 2)\n",
    "axes = fig.add_subplot(1, 1, 1, aspect='equal')\n",
    "axes.contour(X, Y, R)\n",
    "axes.set_xlabel(\"Real\")\n",
    "axes.set_ylabel(\"Imaginary\")\n",
    "axes.set_title(\"Basin of Attraction for $f(x) = x - e \\cdot \\sin x - M$\")\n",
    "plt.show()"
   ]
  }
 ],
 "metadata": {
  "kernelspec": {
   "display_name": "Python 3",
   "language": "python",
   "name": "python3"
  },
  "language_info": {
   "codemirror_mode": {
    "name": "ipython",
    "version": 3
   },
   "file_extension": ".py",
   "mimetype": "text/x-python",
   "name": "python",
   "nbconvert_exporter": "python",
   "pygments_lexer": "ipython3",
   "version": "3.7.4"
  }
 },
 "nbformat": 4,
 "nbformat_minor": 2
}
